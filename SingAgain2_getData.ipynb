{
 "cells": [
  {
   "cell_type": "markdown",
   "metadata": {},
   "source": [
    "### 분석 목적: 유튜브 조회 수, 좋아요, 싫어요 수를 통한 오디션 프로그램의 우승자 예측\n",
    "\n",
    "### 분석 배경\n",
    "- 2021년 12월 6일날 첫 방영한 \"싱어게인2\" 프로그램에서 우승자를 예측하기 위함\n",
    "- 유튜브 조회 수는 '화제성'을 상징하는 지표라고 생각하고, '좋아요'와 '싫어요'는 대중들의 평가를 상징하는 지표라고 생각\n",
    "- 이 지표들을 분석함으로써 실제 오디션 프로그램의 우승자를 예측해보려고 함\n",
    "\n",
    "\n",
    "\n",
    "[url](https://www.youtube.com/watch?v=D0HfiSWP6-Y) 참고해서 적어보자\n"
   ]
  },
  {
   "cell_type": "code",
   "execution_count": 1,
   "metadata": {},
   "outputs": [],
   "source": [
    "import numpy as np\n",
    "import MySQLdb\n",
    "import pandas as pd\n",
    "import re\n",
    "import requests\n",
    "import time\n",
    "\n",
    "from datetime import datetime\n",
    "from sqlalchemy import create_engine"
   ]
  },
  {
   "cell_type": "code",
   "execution_count": null,
   "metadata": {},
   "outputs": [],
   "source": [
    "# connect mySql\n",
    "conn = MySQLdb.connect(host=\"******\", \n",
    "                       port=3306, \n",
    "                       user='root', \n",
    "                       password='******',\n",
    "                       database='singAgain',\n",
    "                       charset='utf8')\n",
    "# create db\n",
    "#cursor.execute(\"CREATE DATABASE singAgain\")\n",
    "\n",
    "# create table\n",
    "#sql = \"\"\"CREATE TABLE youtubeInfo (time DATETIME, title TINYTEXT, \n",
    "#        viewCount int, likeCount int, favoriteCount int, commentCount int)\"\"\"\n",
    "#cursor.execute(sql)\n",
    "#conn.commit()\n",
    "\n",
    "cursor = conn.cursor()"
   ]
  },
  {
   "cell_type": "code",
   "execution_count": 3,
   "metadata": {},
   "outputs": [],
   "source": [
    "# api id\n",
    "my_id = '***********'"
   ]
  },
  {
   "cell_type": "code",
   "execution_count": 4,
   "metadata": {},
   "outputs": [],
   "source": [
    "def run(list_id):\n",
    "    list_url = f'https://www.googleapis.com/youtube/v3/playlistItems?part=id,snippet,contentDetails,status&playlistId={list_id}&maxResults=50&key={my_id}'\n",
    "    \n",
    "    # request list_url\n",
    "    result = requests.get(list_url)\n",
    "    result_dict = \"\"\n",
    "\n",
    "    # 정상 -> json\n",
    "    if result.ok:\n",
    "        result_dict = result.json()\n",
    "    \n",
    "    # 재생목록에서 video id 받아오기\n",
    "    video_id_list = []\n",
    "    for i in range(len(result_dict['items'])):\n",
    "        video_id = result_dict['items'][i]['snippet']['resourceId']['videoId']\n",
    "        video_id_list.append(video_id)\n",
    "        \n",
    "    # video info 추출\n",
    "    result_values = []\n",
    "    for video in video_id_list:\n",
    "        video_url = f'https://www.googleapis.com/youtube/v3/videos?part=id,snippet,statistics&id={video}&key={my_id}'\n",
    "\n",
    "        result = requests.get(video_url)\n",
    "        result_dict = result.json()\n",
    "\n",
    "        # values\n",
    "        try:\n",
    "            time_value = datetime.now().strftime('%Y-%m-%d %H:%M:%S')\n",
    "            title_value = result_dict['items'][0]['snippet']['title']\n",
    "            title_value = re.sub(\"[^ㄱ-힣1-9 ]+\", \"\", title_value)\n",
    "            count_value_list = list(result_dict['items'][0]['statistics'].values())\n",
    "\n",
    "            # insert sql\n",
    "            sql = f\"\"\"INSERT INTO youtubeInfo VALUES\n",
    "                            (\"{time_value}\", \"{title_value}\", {count_value_list[0]}, {count_value_list[1]}, {count_value_list[2]}, {count_value_list[3]})\"\"\"\n",
    "            cursor.execute(sql)\n",
    "            conn.commit()\n",
    "        except:\n",
    "            print(video)\n",
    "            continue"
   ]
  },
  {
   "cell_type": "code",
   "execution_count": 5,
   "metadata": {},
   "outputs": [],
   "source": [
    "def print_time():\n",
    "    print(datetime.now().strftime('%m월%d일 %H:%M'))"
   ]
  },
  {
   "cell_type": "code",
   "execution_count": null,
   "metadata": {},
   "outputs": [],
   "source": [
    "zig_cam_list_id = \"PLx_gmH-Sx5dW9mMRLNH_Y0tKLNppOQIcV\"\n",
    "hot_clip_list_id = \"PLis5WuyWOdrUvQYJh8qRe-re8Fxoe0WtG\"\n",
    "list_id_1 = \"PL5qRfk4DowRCPbG1pNlGbgqKlgVxzb-fv\"\n",
    "list_id_2 = \"PL5qRfk4DowRAtIVvvpG3Bp660CTsyWOmF\"\n",
    "\n",
    "schedule.every().hour.at(\":00\").do(run, zig_cam_list_id)\n",
    "schedule.every().hour.at(\":30\").do(run, zig_cam_list_id)\n",
    "\n",
    "schedule.every().hour.at(\":00\").do(run, hot_clip_list_id)\n",
    "schedule.every().hour.at(\":30\").do(run, hot_clip_list_id)\n",
    "\n",
    "schedule.every().hour.at(\":00\").do(run, list_id_1)\n",
    "schedule.every().hour.at(\":30\").do(run, list_id_1)\n",
    "\n",
    "schedule.every().hour.at(\":00\").do(run, list_id_2)\n",
    "schedule.every().hour.at(\":30\").do(run, list_id_2)\n",
    "\n",
    "\n",
    "while True:\n",
    "    schedule.run_pending()\n",
    "    time.sleep(1)"
   ]
  },
  {
   "cell_type": "code",
   "execution_count": null,
   "metadata": {},
   "outputs": [],
   "source": []
  }
 ],
 "metadata": {
  "kernelspec": {
   "display_name": "Python 3 (ipykernel)",
   "language": "python",
   "name": "python3"
  },
  "language_info": {
   "codemirror_mode": {
    "name": "ipython",
    "version": 3
   },
   "file_extension": ".py",
   "mimetype": "text/x-python",
   "name": "python",
   "nbconvert_exporter": "python",
   "pygments_lexer": "ipython3",
   "version": "3.9.7"
  }
 },
 "nbformat": 4,
 "nbformat_minor": 4
}
