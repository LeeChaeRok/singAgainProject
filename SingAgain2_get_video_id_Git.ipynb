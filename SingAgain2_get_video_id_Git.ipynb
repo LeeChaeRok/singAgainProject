{
 "cells": [
  {
   "cell_type": "markdown",
   "metadata": {},
   "source": [
    "### Youtube playlist를 통해 각각의 video id를 가져온 후 MySQL에 저장"
   ]
  },
  {
   "cell_type": "code",
   "execution_count": 1,
   "metadata": {},
   "outputs": [],
   "source": [
    "import numpy as np\n",
    "import MySQLdb\n",
    "import pandas as pd\n",
    "import requests\n",
    "import schedule\n",
    "import time\n",
    "\n",
    "from datetime import datetime\n",
    "from sqlalchemy import create_engine\n",
    "from tqdm import tqdm"
   ]
  },
  {
   "cell_type": "markdown",
   "metadata": {},
   "source": [
    "#### MySql"
   ]
  },
  {
   "cell_type": "code",
   "execution_count": 2,
   "metadata": {},
   "outputs": [],
   "source": [
    "# connect mysql & Database \n",
    "conn = MySQLdb.connect(host=\"localhost\", \n",
    "                       port=3306, \n",
    "                       user='root', \n",
    "                       password='******',\n",
    "                       database='singAgain_db',\n",
    "                       charset='utf8')\n",
    "\n",
    "cursor = conn.cursor()"
   ]
  },
  {
   "cell_type": "markdown",
   "metadata": {},
   "source": [
    "### Get video_id"
   ]
  },
  {
   "cell_type": "code",
   "execution_count": 3,
   "metadata": {},
   "outputs": [],
   "source": [
    "# create table\n",
    "#sql = \"\"\"CREATE TABLE video_id_list (video_id VARCHAR(255))\"\"\"\n",
    "#cursor.execute(sql)\n",
    "#conn.commit()\n",
    "#cursor = conn.cursor()"
   ]
  },
  {
   "cell_type": "code",
   "execution_count": 4,
   "metadata": {},
   "outputs": [],
   "source": [
    "# api id\n",
    "my_id = '******************************'"
   ]
  },
  {
   "cell_type": "code",
   "execution_count": 5,
   "metadata": {},
   "outputs": [],
   "source": [
    "# get video id from playlist\n",
    "# 플레이리스트로부터 비디오 id 얻기\n",
    "def get_video_id(playlist_id):\n",
    "    video_id_list = []\n",
    "    list_url = f'https://www.googleapis.com/youtube/v3/playlistItems?part=id,snippet,contentDetails,status&playlistId={playlist_id}&maxResults=50&key={my_id}'\n",
    "    result = requests.get(list_url)\n",
    "    result_json = result.json()\n",
    "\n",
    "    for i in range(len(result_json['items'])):\n",
    "        video_id = result_json['items'][i]['snippet']['resourceId']['videoId']\n",
    "        video_id_list.append((video_id))\n",
    "        \n",
    "    return video_id_list"
   ]
  },
  {
   "cell_type": "code",
   "execution_count": 6,
   "metadata": {},
   "outputs": [],
   "source": [
    "# get video id at mysql\n",
    "def save_video_id(playlist_id):\n",
    "    video_id_list = get_video_id(playlist_id)\n",
    "    \n",
    "    sql = f\"INSERT INTO video_id_list VALUES (%s)\"\n",
    "    cursor.executemany(sql, video_id_list)\n",
    "    conn.commit()"
   ]
  },
  {
   "cell_type": "code",
   "execution_count": 7,
   "metadata": {},
   "outputs": [],
   "source": [
    "# 직캠 플레이리스트\n",
    "zig_cam_list_id = \"PLx_gmH-Sx5dW9mMRLNH_Y0tKLNppOQIcV\"\n",
    "save_video_id(zig_cam_list_id)"
   ]
  },
  {
   "cell_type": "code",
   "execution_count": 8,
   "metadata": {},
   "outputs": [],
   "source": [
    "# 핫클립 플레이리스트\n",
    "hot_clip_list_id = \"PLis5WuyWOdrUvQYJh8qRe-re8Fxoe0WtG\"\n",
    "save_video_id(hot_clip_list_id)"
   ]
  },
  {
   "cell_type": "code",
   "execution_count": 9,
   "metadata": {},
   "outputs": [],
   "source": [
    "# 1회 플레이리스트\n",
    "list_id_1 = \"PL5qRfk4DowRCPbG1pNlGbgqKlgVxzb-fv\"\n",
    "save_video_id(list_id_1)"
   ]
  },
  {
   "cell_type": "code",
   "execution_count": 10,
   "metadata": {},
   "outputs": [],
   "source": [
    "# 2회 플레이리스트\n",
    "list_id_2 = \"PL5qRfk4DowRAtIVvvpG3Bp660CTsyWOmF\"\n",
    "save_video_id(list_id_2)"
   ]
  },
  {
   "cell_type": "code",
   "execution_count": 11,
   "metadata": {},
   "outputs": [],
   "source": [
    "# 3회 플레이리스트\n",
    "list_id_3 = \"PL5qRfk4DowRDqhjFhTYVSi6tqcUOlFt01\"\n",
    "save_video_id(list_id_3)"
   ]
  },
  {
   "cell_type": "code",
   "execution_count": 12,
   "metadata": {},
   "outputs": [],
   "source": [
    "# 4회 플레이리스트\n",
    "list_id_4 = \"PL5qRfk4DowRBbdhPi4P4dCw6nkdZ3Ij2h\"\n",
    "save_video_id(list_id_4)"
   ]
  },
  {
   "cell_type": "code",
   "execution_count": 13,
   "metadata": {},
   "outputs": [],
   "source": [
    "# 5회 플레이리스트\n",
    "list_id_5 = \"PL5qRfk4DowRDVsy3HGq0A5y7e78ISKEAd\"\n",
    "save_video_id(list_id_5)"
   ]
  },
  {
   "cell_type": "code",
   "execution_count": 14,
   "metadata": {},
   "outputs": [],
   "source": [
    "# 6회 플레이리스트\n",
    "list_id_6 = \"PL5qRfk4DowRBBr4fr26e1TPexDcCFgDGF\"\n",
    "save_video_id(list_id_6)"
   ]
  },
  {
   "cell_type": "code",
   "execution_count": 15,
   "metadata": {},
   "outputs": [],
   "source": [
    "conn.close()"
   ]
  },
  {
   "cell_type": "code",
   "execution_count": null,
   "metadata": {},
   "outputs": [],
   "source": []
  }
 ],
 "metadata": {
  "kernelspec": {
   "display_name": "Python 3 (ipykernel)",
   "language": "python",
   "name": "python3"
  },
  "language_info": {
   "codemirror_mode": {
    "name": "ipython",
    "version": 3
   },
   "file_extension": ".py",
   "mimetype": "text/x-python",
   "name": "python",
   "nbconvert_exporter": "python",
   "pygments_lexer": "ipython3",
   "version": "3.9.7"
  }
 },
 "nbformat": 4,
 "nbformat_minor": 4
}
