{
 "cells": [
  {
   "cell_type": "markdown",
   "metadata": {},
   "source": [
    "### MySQL에서 video id를 가져온 후 video Info get"
   ]
  },
  {
   "cell_type": "code",
   "execution_count": 1,
   "metadata": {},
   "outputs": [],
   "source": [
    "import numpy as np\n",
    "import MySQLdb\n",
    "import pandas as pd\n",
    "import re\n",
    "import requests\n",
    "import schedule\n",
    "import time\n",
    "\n",
    "from datetime import datetime\n",
    "from sqlalchemy import create_engine\n",
    "from tqdm import tqdm"
   ]
  },
  {
   "cell_type": "markdown",
   "metadata": {},
   "source": [
    "#### MySql"
   ]
  },
  {
   "cell_type": "code",
   "execution_count": 2,
   "metadata": {},
   "outputs": [],
   "source": [
    "# connect mysql & Database \n",
    "conn = MySQLdb.connect(host=\"localhost\", \n",
    "                       port=3306, \n",
    "                       user='root', \n",
    "                       password='******',\n",
    "                       database='singAgain_db',\n",
    "                       charset='utf8')\n",
    "\n",
    "cursor = conn.cursor()"
   ]
  },
  {
   "cell_type": "code",
   "execution_count": 4,
   "metadata": {},
   "outputs": [],
   "source": [
    "# create table\n",
    "#sql = \"\"\"CREATE TABLE video_info (currentTime DATETIME, videoId VARCHAR(255), publishTime DATETIME, \n",
    "#        videoTitle TINYTEXT, viewCount INT, likeCount INT, favoriteCount INT, commentCount INT)\"\"\"\n",
    "#cursor.execute(sql)\n",
    "#conn.commit()\n",
    "#cursor = conn.cursor()"
   ]
  },
  {
   "cell_type": "markdown",
   "metadata": {},
   "source": [
    "### Get video Info by video ID"
   ]
  },
  {
   "cell_type": "code",
   "execution_count": 22,
   "metadata": {},
   "outputs": [],
   "source": [
    "# Get video ID from DB\n",
    "sql = \"Select * from video_id_list\"\n",
    "cursor.execute(sql)\n",
    "video_id_list = cursor.fetchall()"
   ]
  },
  {
   "cell_type": "code",
   "execution_count": 23,
   "metadata": {},
   "outputs": [],
   "source": [
    "# api id\n",
    "my_id = '******************************'"
   ]
  },
  {
   "cell_type": "code",
   "execution_count": 24,
   "metadata": {},
   "outputs": [],
   "source": [
    "def get_video_info(id_list):\n",
    "    info_list = []\n",
    "    for one_id in id_list:\n",
    "        # 비디오 정보\n",
    "        url = f'https://www.googleapis.com/youtube/v3/videos?part=id,snippet,statistics&id={one_id[0]}&key={my_id}'\n",
    "\n",
    "        result = requests.get(url)\n",
    "        result_json = result.json()\n",
    "\n",
    "        if len(result_json['items']) == 0:\n",
    "            continue\n",
    "\n",
    "        one_info = []\n",
    "        # 현재 시간\n",
    "        c_time = datetime.now().strftime('%Y-%m-%d %H:%M:%S')\n",
    "        # 업로드 시간\n",
    "        video_ptime = result_json['items'][0]['snippet']['publishedAt']\n",
    "        video_ptime = video_ptime.replace(\"T\", \" \").replace(\"Z\", \"\")\n",
    "        # 제목\n",
    "        title_value = result_json['items'][0]['snippet']['title']\n",
    "        video_title = re.sub(\"[^ㄱ-힣1-9 ]+\", \"\", title_value)\n",
    "        # 정보\n",
    "        video_info = list(result_json['items'][0]['statistics'].values())\n",
    "\n",
    "        one_info.extend([c_time, one_id[0], video_ptime, video_title])\n",
    "        one_info.extend(video_info)\n",
    "        \n",
    "        info_list.append(one_info)\n",
    "        #print(info_list)\n",
    "    return info_list"
   ]
  },
  {
   "cell_type": "code",
   "execution_count": 25,
   "metadata": {},
   "outputs": [],
   "source": [
    "# get video id at mysql\n",
    "def save_video_info(video_id_list):\n",
    "    video_info_list = get_video_info(video_id_list)\n",
    "    sql = f\"\"\"INSERT INTO video_info ()VALUES\n",
    "                    (%s, %s, %s, %s, %s, %s, %s, %s)\"\"\"\n",
    "    cursor.executemany(sql, video_info_list)\n",
    "    conn.commit()"
   ]
  },
  {
   "cell_type": "code",
   "execution_count": 26,
   "metadata": {},
   "outputs": [],
   "source": [
    "save_video_info(video_id_list)"
   ]
  }
 ],
 "metadata": {
  "kernelspec": {
   "display_name": "Python 3 (ipykernel)",
   "language": "python",
   "name": "python3"
  },
  "language_info": {
   "codemirror_mode": {
    "name": "ipython",
    "version": 3
   },
   "file_extension": ".py",
   "mimetype": "text/x-python",
   "name": "python",
   "nbconvert_exporter": "python",
   "pygments_lexer": "ipython3",
   "version": "3.9.7"
  }
 },
 "nbformat": 4,
 "nbformat_minor": 4
}
