{
 "cells": [
  {
   "cell_type": "markdown",
   "metadata": {},
   "source": [
    "### MySQL에서 video id를 가져온 후 video Comment get"
   ]
  },
  {
   "cell_type": "code",
   "execution_count": 32,
   "metadata": {},
   "outputs": [],
   "source": [
    "import numpy as np\n",
    "import MySQLdb\n",
    "import pandas as pd\n",
    "import re\n",
    "import requests\n",
    "import schedule\n",
    "import time\n",
    "\n",
    "from datetime import datetime\n",
    "from sqlalchemy import create_engine\n",
    "from tqdm import tqdm"
   ]
  },
  {
   "cell_type": "markdown",
   "metadata": {},
   "source": [
    "#### MySql"
   ]
  },
  {
   "cell_type": "code",
   "execution_count": 2,
   "metadata": {},
   "outputs": [],
   "source": [
    "# connect mysql & Database \n",
    "conn = MySQLdb.connect(host=\"localhost\", \n",
    "                       port=3306, \n",
    "                       user='root', \n",
    "                       password='******',\n",
    "                       database='singAgain_db',\n",
    "                       charset='utf8')\n",
    "\n",
    "cursor = conn.cursor()"
   ]
  },
  {
   "cell_type": "code",
   "execution_count": 10,
   "metadata": {},
   "outputs": [],
   "source": [
    "# create table\n",
    "#sql = \"\"\"CREATE TABLE comment_info (currentTime DATETIME, videoId VARCHAR(255), commentTime DATETIME, \n",
    "#        comment TEXT, commentLike INT)\"\"\"\n",
    "#cursor.execute(sql)\n",
    "#conn.commit()"
   ]
  },
  {
   "cell_type": "markdown",
   "metadata": {},
   "source": [
    "### Get video Info by video ID"
   ]
  },
  {
   "cell_type": "code",
   "execution_count": 5,
   "metadata": {},
   "outputs": [],
   "source": [
    "# Get video ID from DB\n",
    "sql = \"Select * from video_id_list\"\n",
    "cursor.execute(sql)\n",
    "video_id_list = cursor.fetchall()"
   ]
  },
  {
   "cell_type": "markdown",
   "metadata": {},
   "source": [
    "### Get video comment by video ID"
   ]
  },
  {
   "cell_type": "code",
   "execution_count": 6,
   "metadata": {},
   "outputs": [],
   "source": [
    "# api id\n",
    "my_id = '******************************'"
   ]
  },
  {
   "cell_type": "code",
   "execution_count": 50,
   "metadata": {},
   "outputs": [],
   "source": [
    "def get_comment_info(id_list):\n",
    "    comment_info_list = []\n",
    "    for one_id in tqdm(id_list):\n",
    "        # 비디오 정보\n",
    "        comment_url = f\"https://www.googleapis.com/youtube/v3/commentThreads?part=id,snippet&videoId={one_id[0]}&key={my_id}&maxResults=100&order=relevance\"\n",
    "        result = requests.get(comment_url)\n",
    "        comment_json = result.json()\n",
    "        \n",
    "        try:\n",
    "            for item in comment_json['items']:\n",
    "                c_time = datetime.now().strftime('%Y-%m-%d %H:%M:%S')\n",
    "                video_id = one_id[0]\n",
    "                comment_org = item['snippet']['topLevelComment']['snippet']['textOriginal']\n",
    "                comment = re.sub(\"[^ㄱ-힣1-9 ]+\", \" \", comment_org)\n",
    "                comment_like = item['snippet']['topLevelComment']['snippet']['likeCount']\n",
    "\n",
    "                comment_time = item['snippet']['topLevelComment']['snippet']['publishedAt']  \n",
    "                comment_ptime = comment_time.replace(\"T\", \" \").replace(\"Z\", \"\")\n",
    "\n",
    "                comment_info_list.append([c_time, video_id, comment_ptime, comment, comment_like])\n",
    "        except:\n",
    "            continue\n",
    "        i = 0\n",
    "        while i < 9:\n",
    "            try:\n",
    "                comment_url = f\"https://www.googleapis.com/youtube/v3/commentThreads?part=id,snippet&videoId={one_id[0]}&key={my_id}&maxResults=100&order=relevance&pageToken={comment_json['nextPageToken']}\"\n",
    "            except:\n",
    "                i += 1\n",
    "                continue\n",
    "            result = requests.get(comment_url)\n",
    "            comment_json = result.json()\n",
    "            try:\n",
    "                for item in comment_json['items']:\n",
    "                    c_time = datetime.now().strftime('%Y-%m-%d %H:%M:%S')\n",
    "                    video_id = one_id[0]\n",
    "\n",
    "                    comment_org = item['snippet']['topLevelComment']['snippet']['textOriginal']\n",
    "                    comment = re.sub(\"[^ㄱ-힣1-9 ]+\", \" \", comment_org)\n",
    "                    comment_like = item['snippet']['topLevelComment']['snippet']['likeCount']\n",
    "                    \n",
    "                    comment_time = item['snippet']['topLevelComment']['snippet']['publishedAt']  \n",
    "                    comment_ptime = comment_time.replace(\"T\", \" \").replace(\"Z\", \"\")\n",
    "                    \n",
    "                    comment_info_list.append([c_time, video_id, comment_ptime, comment, comment_like])\n",
    "            except:\n",
    "                i += 1\n",
    "                continue\n",
    "            i += 1\n",
    "        \n",
    "    return comment_info_list"
   ]
  },
  {
   "cell_type": "code",
   "execution_count": 51,
   "metadata": {},
   "outputs": [],
   "source": [
    "# get video id at mysql\n",
    "def save_comment_info(video_id_list):\n",
    "    comment_info_list = get_comment_info(video_id_list)\n",
    "    sql = f\"\"\"INSERT INTO comment_info VALUES\n",
    "                    (%s, %s, %s, %s, %s)\"\"\"\n",
    "    cursor.executemany(sql, comment_info_list)\n",
    "    conn.commit()"
   ]
  },
  {
   "cell_type": "code",
   "execution_count": 52,
   "metadata": {},
   "outputs": [
    {
     "name": "stderr",
     "output_type": "stream",
     "text": [
      "100%|██████████| 283/283 [09:40<00:00,  2.05s/it]\n"
     ]
    }
   ],
   "source": [
    "save_comment_info(video_id_list)"
   ]
  },
  {
   "cell_type": "code",
   "execution_count": null,
   "metadata": {},
   "outputs": [],
   "source": []
  }
 ],
 "metadata": {
  "kernelspec": {
   "display_name": "Python 3 (ipykernel)",
   "language": "python",
   "name": "python3"
  },
  "language_info": {
   "codemirror_mode": {
    "name": "ipython",
    "version": 3
   },
   "file_extension": ".py",
   "mimetype": "text/x-python",
   "name": "python",
   "nbconvert_exporter": "python",
   "pygments_lexer": "ipython3",
   "version": "3.9.7"
  }
 },
 "nbformat": 4,
 "nbformat_minor": 4
}
